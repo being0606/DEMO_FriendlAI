{
 "cells": [
  {
   "cell_type": "code",
   "execution_count": 1,
   "metadata": {},
   "outputs": [
    {
     "name": "stderr",
     "output_type": "stream",
     "text": [
      "/Users/being/Library/Python/3.9/lib/python/site-packages/urllib3/__init__.py:35: NotOpenSSLWarning: urllib3 v2 only supports OpenSSL 1.1.1+, currently the 'ssl' module is compiled with 'LibreSSL 2.8.3'. See: https://github.com/urllib3/urllib3/issues/3020\n",
      "  warnings.warn(\n"
     ]
    }
   ],
   "source": [
    "from dotenv import load_dotenv\n",
    "from requests import request\n",
    "import json\n",
    "import os"
   ]
  },
  {
   "cell_type": "code",
   "execution_count": 2,
   "metadata": {},
   "outputs": [],
   "source": [
    "# token = os.environ.get(\"FRIENDLI_TOKEN\") or \"YOUR_FRIENDLI_TOKEN\"\n",
    "token = os.environ.get(\"FRIENDLI_TOKEN\")"
   ]
  },
  {
   "cell_type": "code",
   "execution_count": 5,
   "metadata": {},
   "outputs": [
    {
     "name": "stdout",
     "output_type": "stream",
     "text": [
      "data: {\"choices\":[{\"delta\":{\"content\":\"I\",\"role\":\"assistant\"},\"finish_reason\":null,\"index\":0,\"logprobs\":null}],\"created\":1726661588,\"usage\":null}\n",
      "\n",
      "data: {\"choices\":[{\"delta\":{\"content\":\"'m\"},\"finish_reason\":null,\"index\":0,\"logprobs\":null}],\"created\":1726661588,\"usage\":null}\n",
      "\n",
      "data: {\"choices\":[{\"delta\":{\"content\":\" just\"},\"finish_reason\":null,\"index\":0,\"logprobs\":null}],\"created\":1726661588,\"usage\":null}\n",
      "\n",
      "data: {\"choices\":[{\"delta\":{\"content\":\" a\"},\"finish_reason\":null,\"index\":0,\"logprobs\":null}],\"created\":1726661588,\"usage\":null}\n",
      "\n",
      "data: {\"choices\":[{\"delta\":{\"content\":\" language\"},\"finish_reason\":null,\"index\":0,\"logprobs\":null}],\"created\":1726661588,\"usage\":null}\n",
      "\n",
      "data: {\"choices\":[{\"delta\":{\"content\":\" model\"},\"finish_reason\":null,\"index\":0,\"logprobs\":null}],\"created\":1726661588,\"usage\":null}\n",
      "\n",
      "data: {\"choices\":[{\"delta\":{\"content\":\",\"},\"finish_reason\":null,\"index\":0,\"logprobs\":null}],\"created\":1726661588,\"usage\":null}\n",
      "\n",
      "data: {\"choices\":[{\"delta\":{\"content\":\" so\"},\"finish_reason\":null,\"index\":0,\"logprobs\":null}],\"created\":1726661588,\"usage\":null}\n",
      "\n",
      "data: {\"choices\":[{\"delta\":{\"content\":\" I\"},\"finish_reason\":null,\"index\":0,\"logprobs\":null}],\"created\":1726661588,\"usage\":null}\n",
      "\n",
      "data: {\"choices\":[{\"delta\":{\"content\":\" don\"},\"finish_reason\":null,\"index\":0,\"logprobs\":null}],\"created\":1726661588,\"usage\":null}\n",
      "\n",
      "data: {\"choices\":[{\"delta\":{\"content\":\"'t\"},\"finish_reason\":null,\"index\":0,\"logprobs\":null}],\"created\":1726661588,\"usage\":null}\n",
      "\n",
      "data: {\"choices\":[{\"delta\":{\"content\":\" have\"},\"finish_reason\":null,\"index\":0,\"logprobs\":null}],\"created\":1726661588,\"usage\":null}\n",
      "\n",
      "data: {\"choices\":[{\"delta\":{\"content\":\" feelings\"},\"finish_reason\":null,\"index\":0,\"logprobs\":null}],\"created\":1726661588,\"usage\":null}\n",
      "\n",
      "data: {\"choices\":[{\"delta\":{\"content\":\",\"},\"finish_reason\":null,\"index\":0,\"logprobs\":null}],\"created\":1726661588,\"usage\":null}\n",
      "\n",
      "data: {\"choices\":[{\"delta\":{\"content\":\" but\"},\"finish_reason\":null,\"index\":0,\"logprobs\":null}],\"created\":1726661588,\"usage\":null}\n",
      "\n",
      "data: {\"choices\":[{\"delta\":{\"content\":\" thanks\"},\"finish_reason\":null,\"index\":0,\"logprobs\":null}],\"created\":1726661588,\"usage\":null}\n",
      "\n",
      "data: {\"choices\":[{\"delta\":{\"content\":\" for\"},\"finish_reason\":null,\"index\":0,\"logprobs\":null}],\"created\":1726661588,\"usage\":null}\n",
      "\n",
      "data: {\"choices\":[{\"delta\":{\"content\":\" asking\"},\"finish_reason\":null,\"index\":0,\"logprobs\":null}],\"created\":1726661588,\"usage\":null}\n",
      "\n",
      "data: {\"choices\":[{\"delta\":{\"content\":\"!\"},\"finish_reason\":null,\"index\":0,\"logprobs\":null}],\"created\":1726661588,\"usage\":null}\n",
      "\n",
      "data: {\"choices\":[{\"delta\":{\"content\":\" How\"},\"finish_reason\":null,\"index\":0,\"logprobs\":null}],\"created\":1726661588,\"usage\":null}\n",
      "\n",
      "data: {\"choices\":[{\"delta\":{\"content\":\" can\"},\"finish_reason\":null,\"index\":0,\"logprobs\":null}],\"created\":1726661588,\"usage\":null}\n",
      "\n",
      "data: {\"choices\":[{\"delta\":{\"content\":\" I\"},\"finish_reason\":null,\"index\":0,\"logprobs\":null}],\"created\":1726661588,\"usage\":null}\n",
      "\n",
      "data: {\"choices\":[{\"delta\":{\"content\":\" assist\"},\"finish_reason\":null,\"index\":0,\"logprobs\":null}],\"created\":1726661588,\"usage\":null}\n",
      "\n",
      "data: {\"choices\":[{\"delta\":{\"content\":\" you\"},\"finish_reason\":null,\"index\":0,\"logprobs\":null}],\"created\":1726661588,\"usage\":null}\n",
      "\n",
      "data: {\"choices\":[{\"delta\":{\"content\":\" today\"},\"finish_reason\":null,\"index\":0,\"logprobs\":null}],\"created\":1726661588,\"usage\":null}\n",
      "\n",
      "data: {\"choices\":[{\"delta\":{\"content\":\"?\"},\"finish_reason\":null,\"index\":0,\"logprobs\":null}],\"created\":1726661588,\"usage\":null}\n",
      "\n",
      "data: {\"choices\":[{\"delta\":{\"content\":\"\"},\"finish_reason\":null,\"index\":0,\"logprobs\":null}],\"created\":1726661588,\"usage\":null}\n",
      "\n",
      "data: {\"choices\":[{\"delta\":{},\"finish_reason\":\"stop\",\"index\":0,\"logprobs\":null}],\"created\":1726661588,\"usage\":null}\n",
      "\n",
      "data: {\"choices\":[],\"created\":1726661588611848529,\"usage\":{\"completion_tokens\":27,\"prompt_tokens\":41,\"total_tokens\":68}}\n",
      "\n",
      "data: [DONE]\n",
      "\n",
      "\n"
     ]
    }
   ],
   "source": [
    "url = \"https://inference.friendli.ai/v1/chat/completions\"\n",
    "\n",
    "headers = {\n",
    "  \"Content-Type\": \"application/json\",\n",
    "  \"Accept\": \"application/json\",\n",
    "  \"Authorization\": \"Bearer \" + token\n",
    "}\n",
    "\n",
    "payload = json.dumps({\n",
    "  \"model\": \"meta-llama-3.1-70b-instruct\",\n",
    "  \"messages\": [\n",
    "    {\n",
    "      \"role\": \"user\",\n",
    "      \"content\": \"Hello, how are you?\"\n",
    "    }\n",
    "  ],\n",
    "  \"max_tokens\": 512,\n",
    "  \"temperature\": 1,\n",
    "  \"top_p\": 0.8,\n",
    "  \"stream\": True,\n",
    "  \"stream_options\": {\n",
    "    \"include_usage\": True\n",
    "  }\n",
    "})\n",
    "\n",
    "response = request(\"POST\", url, headers=headers, data=payload)\n",
    "print(response.text)"
   ]
  },
  {
   "cell_type": "code",
   "execution_count": null,
   "metadata": {},
   "outputs": [],
   "source": []
  }
 ],
 "metadata": {
  "kernelspec": {
   "display_name": "Python 3",
   "language": "python",
   "name": "python3"
  },
  "language_info": {
   "codemirror_mode": {
    "name": "ipython",
    "version": 3
   },
   "file_extension": ".py",
   "mimetype": "text/x-python",
   "name": "python",
   "nbconvert_exporter": "python",
   "pygments_lexer": "ipython3",
   "version": "3.9.6"
  }
 },
 "nbformat": 4,
 "nbformat_minor": 2
}
