{
 "cells": [
  {
   "cell_type": "code",
   "execution_count": null,
   "metadata": {},
   "outputs": [],
   "source": [
    "from requests import request\n",
    "import json\n",
    "import os\n",
    "\n",
    "token = os.environ.get(\"FRIENDLI_TOKEN\") or \"YOUR_FRIENDLI_TOKEN\"\n",
    "\n",
    "url = \"https://inference.friendli.ai/v1/chat/completions\"\n",
    "\n",
    "headers = {\n",
    "  \"Content-Type\": \"application/json\",\n",
    "  \"Accept\": \"application/json\",\n",
    "  \"Authorization\": \"Bearer \" + token\n",
    "}\n",
    "\n",
    "payload = json.dumps({\n",
    "  \"model\": \"meta-llama-3.1-70b-instruct\",\n",
    "  \"messages\": [\n",
    "    {\n",
    "      \"role\": \"user\",\n",
    "      \"content\": \"\"\n",
    "    }\n",
    "  ],\n",
    "  \"max_tokens\": 512,\n",
    "  \"temperature\": 1,\n",
    "  \"top_p\": 0.8,\n",
    "  \"stream\": True,\n",
    "  \"stream_options\": {\n",
    "    \"include_usage\": True\n",
    "  }\n",
    "})\n",
    "\n",
    "response = request(\"POST\", url, headers=headers, data=payload)\n",
    "\n",
    "print(response.text)"
   ]
  }
 ],
 "metadata": {
  "language_info": {
   "name": "python"
  }
 },
 "nbformat": 4,
 "nbformat_minor": 2
}
